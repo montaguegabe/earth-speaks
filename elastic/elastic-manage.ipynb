{
  "cells": [
    {
      "cell_type": "markdown",
      "source": [
        "Use this file to manage indices and analyzers"
      ],
      "metadata": {}
    },
    {
      "cell_type": "code",
      "source": [
        "CREDENTIALS_DIR = '../credentials' # make sure this is not checked\n",
        "DATA_DIR        = '../data/nature-html/'\n",
        "CRED_NAME       = 'elasticsearch'\n",
        "CLOUD_URL       = 'ec2-34-201-3-67.compute-1.amazonaws.com'\n",
        "PORT            = 9200"
      ],
      "outputs": [],
      "execution_count": null,
      "metadata": {
        "collapsed": false,
        "outputHidden": false,
        "inputHidden": false
      }
    },
    {
      "cell_type": "code",
      "source": [
        "from elasticsearch import Elasticsearch\n",
        "import json"
      ],
      "outputs": [],
      "execution_count": null,
      "metadata": {
        "collapsed": false,
        "outputHidden": false,
        "inputHidden": false
      }
    },
    {
      "cell_type": "code",
      "source": [
        "# First load credentials\n",
        "(user, secret) = json.load(open('../credentials/elasticsearch.json'))"
      ],
      "outputs": [],
      "execution_count": null,
      "metadata": {
        "collapsed": false,
        "outputHidden": false,
        "inputHidden": false
      }
    },
    {
      "cell_type": "code",
      "source": [
        "es = Elasticsearch(['http://' + user + ':' + secret + '@' + CLOUD_URL + ':' + str(PORT)])"
      ],
      "outputs": [],
      "execution_count": null,
      "metadata": {
        "collapsed": false,
        "outputHidden": false,
        "inputHidden": false
      }
    },
    {
      "cell_type": "code",
      "source": [
        "# Test that it is working\n",
        "es.info()"
      ],
      "outputs": [],
      "execution_count": null,
      "metadata": {
        "collapsed": false,
        "outputHidden": false,
        "inputHidden": false
      }
    },
    {
      "cell_type": "markdown",
      "source": [
        "Analysis"
      ],
      "metadata": {}
    },
    {
      "cell_type": "code",
      "source": [
        "# First we create a custom analyzer for the index\n",
        "ANALYZER_VERSION = '1'\n",
        "ANALYZER_NAME = 'english'\n",
        "analyzer_id = 'an-' + ANALYZER_VERSION + '-' + ANALYZER_NAME\n",
        "an_prefix = analyzer_id + '-'\n",
        "analyzer_settings = {\n",
        "    \"filter\": {\n",
        "        an_prefix + \"english_stop\": {\n",
        "            \"type\":       \"stop\",\n",
        "            \"stopwords\":  \"_english_\" \n",
        "        },\n",
        "        an_prefix + \"english_keywords\": {\n",
        "            \"type\":       \"keyword_marker\",\n",
        "            \"keywords\":   [\"example\"] \n",
        "        },\n",
        "        an_prefix + \"english_stemmer\": {\n",
        "            \"type\":       \"stemmer\",\n",
        "            \"language\":   \"english\"\n",
        "        },\n",
        "        an_prefix + \"english_possessive_stemmer\": {\n",
        "            \"type\":       \"stemmer\",\n",
        "            \"language\":   \"possessive_english\"\n",
        "        }\n",
        "    },\n",
        "    \"analyzer\": {\n",
        "        analyzer_id: {\n",
        "            \"tokenizer\":  \"standard\",\n",
        "            \"filter\": [\n",
        "                an_prefix + \"english_possessive_stemmer\",\n",
        "                \"lowercase\",\n",
        "                an_prefix + \"english_stop\",\n",
        "                an_prefix + \"english_keywords\",\n",
        "                an_prefix + \"english_stemmer\"\n",
        "            ]\n",
        "        }\n",
        "    }\n",
        "}"
      ],
      "outputs": [],
      "execution_count": null,
      "metadata": {
        "collapsed": false,
        "outputHidden": false,
        "inputHidden": false
      }
    },
    {
      "cell_type": "code",
      "source": [
        "# Try out the analyzer\n",
        "# DO INDEX CREATION FIRST\n",
        "\n",
        "test = \"Please analyze this text for me.\"\n",
        "test_body = {\n",
        "    \"analyzer\": analyzer_id,\n",
        "    \"text\": test\n",
        "}\n",
        "es.indices.analyze(index=INDEX_NAME, body=test_body)"
      ],
      "outputs": [],
      "execution_count": null,
      "metadata": {
        "collapsed": false,
        "outputHidden": false,
        "inputHidden": false
      }
    },
    {
      "cell_type": "markdown",
      "source": [
        "Mappings"
      ],
      "metadata": {}
    },
    {
      "cell_type": "code",
      "source": [
        "# Define the index mapping type\n",
        "MAPPING_NAME = '_doc'\n",
        "mapping_type = {\n",
        "    \"date_detection\": False,\n",
        "    \"properties\": {\n",
        "        \"article_date\": {\"type\": \"date\"},\n",
        "        \"article_title\": {\n",
        "            \"fields\": {\n",
        "                \"keyword\": {\n",
        "                    \"ignore_above\": 256,\n",
        "                    \"type\": \"keyword\"\n",
        "                }\n",
        "            },\n",
        "            \"type\": \"text\",\n",
        "            \"analyzer\": analyzer_id\n",
        "        },\n",
        "        \"text\": {\n",
        "            \"type\": \"text\",\n",
        "            \"analyzer\": analyzer_id\n",
        "        }\n",
        "    },\n",
        "    \n",
        "    # We want unknown string fields to be analyzed - no keywords\n",
        "    \"dynamic_templates\": [\n",
        "        {\n",
        "            \"strings\": {\n",
        "                \"match_mapping_type\": \"string\",\n",
        "                \"mapping\": {\n",
        "                    \"type\": \"text\",\n",
        "                    \"analyzer\": analyzer_id\n",
        "                }\n",
        "            }\n",
        "        }\n",
        "    ]\n",
        "}"
      ],
      "outputs": [],
      "execution_count": null,
      "metadata": {
        "collapsed": false,
        "outputHidden": false,
        "inputHidden": false
      }
    },
    {
      "cell_type": "markdown",
      "source": [
        "Index creation"
      ],
      "metadata": {}
    },
    {
      "cell_type": "code",
      "source": [
        "INDEX_NAME = 'nature-papers-1'"
      ],
      "outputs": [],
      "execution_count": null,
      "metadata": {
        "collapsed": false,
        "outputHidden": false,
        "inputHidden": false
      }
    },
    {
      "cell_type": "code",
      "source": [
        "# Create the index with the analyzer\n",
        "creation_body = {\n",
        "    \"settings\": {\n",
        "        \"analysis\": analyzer_settings\n",
        "    },\n",
        "    \"mappings\": {\n",
        "        MAPPING_NAME: mapping_type\n",
        "    }\n",
        "}\n",
        "es.indices.create(index=INDEX_NAME, body=creation_body)"
      ],
      "outputs": [],
      "execution_count": null,
      "metadata": {
        "collapsed": false,
        "outputHidden": false,
        "inputHidden": false
      }
    },
    {
      "cell_type": "markdown",
      "source": [
        "Index destruction"
      ],
      "metadata": {}
    },
    {
      "cell_type": "code",
      "source": [
        "TO_DELETE = 'nature-papers-english123'\n",
        "es.indices.delete(index=TO_DELETE)"
      ],
      "outputs": [],
      "execution_count": null,
      "metadata": {
        "collapsed": false,
        "outputHidden": false,
        "inputHidden": false
      }
    }
  ],
  "metadata": {
    "kernel_info": {
      "name": "python2"
    },
    "kernelspec": {
      "name": "python2",
      "language": "python",
      "display_name": "Python 2"
    },
    "language_info": {
      "name": "python",
      "version": "3.6.5",
      "mimetype": "text/x-python",
      "codemirror_mode": {
        "name": "ipython",
        "version": 3
      },
      "pygments_lexer": "ipython3",
      "nbconvert_exporter": "python",
      "file_extension": ".py"
    },
    "nteract": {
      "version": "0.8.4"
    }
  },
  "nbformat": 4,
  "nbformat_minor": 4
}