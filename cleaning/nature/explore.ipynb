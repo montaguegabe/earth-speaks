{
  "cells": [
    {
      "cell_type": "markdown",
      "source": [
        "Use this file to test out methods of cleaning HTML data"
      ],
      "metadata": {}
    },
    {
      "cell_type": "code",
      "source": [
        "DATA_DIR        = '../../data/nature/data-html'\n",
        "TEST_FILE       = 'nmat4481'"
      ],
      "outputs": [],
      "execution_count": 31,
      "metadata": {
        "collapsed": false,
        "outputHidden": false,
        "inputHidden": false
      }
    },
    {
      "cell_type": "code",
      "source": [
        "import os\n",
        "import sys\n",
        "module_path = os.path.abspath(os.path.join('../..'))\n",
        "if module_path not in sys.path:\n",
        "    sys.path.append(module_path)"
      ],
      "outputs": [],
      "execution_count": 32,
      "metadata": {
        "collapsed": false,
        "outputHidden": false,
        "inputHidden": false
      }
    },
    {
      "cell_type": "code",
      "source": [
        "from cleaning.nature.convert import file2doc\n",
        "from os.path import join\n",
        "from bs4 import BeautifulSoup\n",
        "import re\n",
        "from cleaning.nature.convert import html2txt"
      ],
      "outputs": [],
      "execution_count": 38,
      "metadata": {
        "collapsed": false,
        "outputHidden": false,
        "inputHidden": false
      }
    },
    {
      "cell_type": "code",
      "source": [
        "file2doc(join(DATA_DIR, TEST_FILE))[1]"
      ],
      "outputs": [
        {
          "output_type": "execute_result",
          "execution_count": 42,
          "data": {
            "text/plain": [
              "{'methods': 'Synthesis of TMSx chalcogels.CoMoSx was prepared by mixing the tetrathiomolybdate with the cobalt metal linker. To obtain a gel, 0.2 mmol of CoCl2   6H2O and 0.2 mmol of ammonium tetrathiomolybdate were dissolved in 2 ml of formamide (FM) in separate vials. Then the metal precursor solution was added slowly to the (NH4)2MoS4 solution and the resultant black product was kept standing for two weeks. The CoSx was prepared by treating the cobalt metal liker with polysulphide ions S52 . In a typical preparation, 0.2 mmol of CoCl2   6H2O dissolved in a 2 ml of FM was added to 0.2 mmol of K2S5 dissolved in 2 ml of FM. The black product was kept undisturbed for 7 10 days to yield a monolithic gel. MoSx gel was obtained by reacting iodine (I2) with the ammonium tetrathiomolybdate. To form the gel, 1.2 mmol of iodine dissolved in 2 ml of DMF was added to 1.2 mmol of ammonium tetrathiomolybdate solution in 4 ml formamide. The dark red solution of (NH4)2MoS4 turned black to give a black pasty product on the addition of a violet solution of iodine. The resultant product was aged for three weeks. After gelation, the remaining formamide was decanted and solvent exchanged with ethanol/water mixture (1:1 by volume), then washed with ethanol for four days each. During the solvent exchange process, fresh supplies of solvents were provided twice a day. The washed gels in ethanol (alcogel) were dried under vacuum or ambient conditions to produce chalcogels. All the chalcogels were powders and black in colour and their average composition was estimated by energy-dispersive spectroscopy.CTR and EXAFS/XANES.The X-ray absorption spectroscopy (XAS) data were acquired at bending magnet beamline 12-BM-B at the Advanced Photon Source (APS), Argonne National Laboratory. The synchrotron radiation was filtered by a double-crystal Si(111) monochromator with a double-mirror system for focusing and harmonic rejection. A custom-made in situ electrochemical X-ray cell with a 6-mm-diameter Pt(111) single crystal for the crystal truncation rod (CTR) measurements and glassy carbon (GC) loaded with chalcogenide materials for the XAS measurements as a working electrodes and Ag/AgCl as a reference electrode was used in a grazing incidence geometry. A 13-element Ge detector (CANBERRA) was used to measure the fluorescence yield. Z-1 filters and a grazing incidence geometry were used to minimize the elastic scattering intensity. The monochromator calibration was monitored by simultaneously measuring the same element reference foil in front of a Si diode and looking at the air-scattered beam.Pair distribution function analysis.The pair distribution function method (PDF) is a powerful technique for local structure studies. PDF describes the distribution of interatomic distances in a material. The power and the difference of PDF from other crystallographic techniques such as the Rietveld method is that PDF is a total scattering technique, which means both the Bragg and diffuse scatterings are treated on an equal basis. PDF studies both the long-range atomic structure (Bragg reflections) and the local structure imperfections (diffuse component of the diffraction pattern). The data analysis does not presume any periodicity, therefore the PDF technique is very useful for examining amorphous and crystalline samples. Diffraction patterns were collected at room temperature on powder samples of each chalcogel, which was packed in a Kapton capillary. The rapid acquisition pair distribution function (RA-PDF) technique was used to collect diffraction data at room temperature using a PerkinElmer image plate detector and X-rays with an energy of approximately 90 keV (  = 0.143  ) at the 11-ID-B beamline at the Advanced Photon Source (APS) at Argonne National Laboratory. Counting statistics were improved by the collection of 200 frames per sample with an exposure time of 2 s per frame. The data were integrated using the program Fit2d and corrections (subtraction of background and container, Compton and fluorescence scattering, geometric and absorption corrections, and so on) were performed using the program PDFgetX3. The normalized data were truncated at 24   1 before PDF calculation. PDFgui was used to model the data. Further information and references can be found in the .Magnetic measurements.Magnetic susceptibilities were measured from 2 to 300 K using a Quantum Design Magnetic Properties Measurement System (MPMS) SQUID magnetometer with a magnetic field strength of 1 kOe. Temperature-dependent magnetic susceptibilities were measured in gelatin capsules containing polycrystalline powders (25 60 mg). No apparent difference between zero-field-cooled and field-cooled temperature-dependent data was observed.XPS.X-ray photoelectron studies were performed using a Thermo Scientific ESCALAB 250 Xi spectrometer equipped with a monochromatic Al K  X-ray source (1,486.6 eV) and operated at 300 W. Samples were analysed under vacuum (P < 10 8 mbar), whereas survey scans and high-resolution scans were collected using pass energies of 50 and 25 eV, respectively. Binding energies were referred to the C 1s binding energy at 284.6 eV. A low-energy electron flood gun was employed for charge neutralization. Ion beam etching was performed to remove any surface contamination. Before XPS measurements, powders were pressed into pellets, seated on copper foil and subsequently put into the entry-load chamber to pump.Powder X-ray diffraction.Powders of each product were prepared by grinding pristine products with a mortar and pestle. Diffraction data were collected for the powders using a flat sample geometry on a Si-calibrated CPS 120 INEL powder X-ray diffractometer operating at 40 kV and 20 mA. Cu K  graphite monochromatized radiation (  = 1.54056  ) and a position sensitive detector were used for the collection.Scanning electron microscopy (SEM).Semiquantitative microprobe analysis, energy-dispersive spectroscopy (EDS) and SEM image acquisition were performed using a Hitachi S-3400 scanning electron microscope. The microscope is equipped with an Oxford Inca energy-dispersive X-ray analyser and an acquisition time of 60 s was used when collecting EDS spectra at an accelerating voltage of 25 kV.Transmission electron microscopy (TEM).A JEOL JEM-2100F FAST TEM instrument was used at a 200 kV accelerating voltage for TEM and selected area electron diffraction (SAED) measurements. Powders of each sample were dispersed in ethanol and deposited on a holey carbon copper grid.Raman spectroscopy.The mapping experiments were carried out on a Renishaw In-Via Raman microscope (Leica) equipped with a Renishaw high-resolution stage. 532 nm laser was used for the excitation and a   50 magnification objective from Olympus was used in the measurements.Electrode preparation.Au(111) single crystal (6 mm in diameter) was prepared by using a well-established annealing cooling method for example, before each experiment a single crystal was annealed at 800  C under a H2 (3%) /Ar stream by means of an induction heating protocol. Pt(111) was prepared similarly but at a higher temperature ( 1,100  C). After the annealing, the Au(111) electrode was protected with a droplet of water and dipped in solutions containing Na2S (1 mM) at different potentials to achieve different coverages by S; the procedure is adopted from ref. . For achieving lower Pt(111) Sad coverages a more diluted solution had to be used (Na2S 0.01 mM), and deposition took place at open-circuit potentials for no more than 10 s. The chalcogels, as well as the nanocrystalline sulphides, were deposited on glassy carbon disks or polycrystalline gold to achieve a loading of about  50  g cm 2 and  60% coverage of the carbon, the latter confirmed by the Raman mapping of the film deposited on the substrate (see  for the case of CoSx). Provided that the active surface area of crystalline chalcogels is substantially smaller, the loading of the latter catalysts is increased by factor of three relative to TMS gels (for example,  50  g  l 1 for amorphous versus  150  g  l 1 for crystalline). However, this is still represents an un-optimized electrode compared to previous results,,,,,.Electrochemical measurements.Three electrode systems were employed, with gold (for measurements in ) or graphite wire (for measurements in Figs  and ) as a counter electrode and saturated Ag/AgCl as a reference electrode. However, all the reported potentials are with respect to the reversible hydrogen electrode (RHE), which gives directly the overpotential for the HER (  = E(j)   E(RHE)). In each experiment on the high-surface-area materials, the electrode was immersed at 0.05 V (versus RHE) in a solution saturated with Ar; to get more accurate activities for the HER before recording polarization curves, solutions were saturated by H2. The current densities are shown based on the geometric surface area of the gold or glassy carbon disk electrode (A = 0.283 cm2). The sweep rate was 50 mV s 1 so, for the measurements on high-surface-area materials, currents for the HER are always corrected for pseudocapacitive components that are assessed from the cyclic voltammograms recorded in Ar-saturated solutions. IR drop correction was used in all the experiments. Aliquots of the electrolyte were collected for ICP-MS analysis before and after potential cycling to determine the amount of dissolution of the TMn+ centres,.'}"
            ]
          },
          "metadata": {}
        }
      ],
      "execution_count": 42,
      "metadata": {
        "collapsed": false,
        "outputHidden": false,
        "inputHidden": false
      }
    },
    {
      "cell_type": "code",
      "source": [],
      "outputs": [],
      "execution_count": null,
      "metadata": {
        "collapsed": false,
        "outputHidden": false,
        "inputHidden": false
      }
    }
  ],
  "metadata": {
    "kernelspec": {
      "name": "python3",
      "language": "python",
      "display_name": "Python 3"
    },
    "kernel_info": {
      "name": "python3"
    },
    "language_info": {
      "name": "python",
      "version": "3.6.5",
      "mimetype": "text/x-python",
      "codemirror_mode": {
        "name": "ipython",
        "version": 3
      },
      "pygments_lexer": "ipython3",
      "nbconvert_exporter": "python",
      "file_extension": ".py"
    },
    "nteract": {
      "version": "0.8.4"
    }
  },
  "nbformat": 4,
  "nbformat_minor": 4
}