{
  "cells": [
    {
      "cell_type": "markdown",
      "source": [
        "In this notebook we will attempt to sample randomly from collections or granules. This will give us a starting database to work with, but also provide us with details about complications of working with different datatypes."
      ],
      "metadata": {}
    },
    {
      "cell_type": "code",
      "source": [
        "CREDENTIALS_DIR = '../../credentials' # make sure this is not checked\n",
        "DATA_DIR        = '../../data/nasa/'\n",
        "MINING_LOG      = 'mining_log.p'\n",
        "\n",
        "DATE_START      = '2017-01-01T12:00:00Z'\n",
        "DATE_END        = '2018-01-01T12:00:00Z'"
      ],
      "outputs": [],
      "execution_count": 9,
      "metadata": {
        "collapsed": false,
        "outputHidden": false,
        "inputHidden": false
      }
    },
    {
      "cell_type": "code",
      "source": [
        "import os\n",
        "import sys\n",
        "module_path = os.path.abspath(os.path.join('..'))\n",
        "if module_path not in sys.path:\n",
        "    sys.path.append(module_path)"
      ],
      "outputs": [],
      "execution_count": 10,
      "metadata": {
        "collapsed": false,
        "outputHidden": false,
        "inputHidden": false
      }
    },
    {
      "cell_type": "code",
      "source": [
        "from pyCMR.pyCMR import CMR\n",
        "import time\n",
        "from datetime import datetime as dt\n",
        "import json\n",
        "import pickle\n",
        "import util\n",
        "import random\n",
        "from os.path import join\n",
        "from pathlib import Path"
      ],
      "outputs": [],
      "execution_count": 11,
      "metadata": {
        "collapsed": false,
        "outputHidden": false,
        "inputHidden": false
      }
    },
    {
      "cell_type": "code",
      "source": [
        "cmr = CMR('cmr.cfg')"
      ],
      "outputs": [],
      "execution_count": 12,
      "metadata": {
        "collapsed": false,
        "outputHidden": false,
        "inputHidden": false
      }
    },
    {
      "cell_type": "code",
      "source": [
        "#long_names = set()\n",
        "long_names = pickle.load(open(MINING_LOG, 'rb'))\n"
      ],
      "outputs": [],
      "execution_count": 13,
      "metadata": {
        "collapsed": false,
        "outputHidden": false,
        "inputHidden": false
      }
    },
    {
      "cell_type": "code",
      "source": [
        "TIME_WINDOW_DAYS = 0.5\n",
        "FORMAT = '%Y-%m-%dT%H:%M:%SZ'\n",
        "RANGE_START = time.mktime(time.strptime(DATE_START, FORMAT))\n",
        "RANGE_END = time.mktime(time.strptime(DATE_END, FORMAT))\n",
        "\n",
        "offset = 0\n",
        "new_found = 0\n",
        "while True:\n",
        "    \n",
        "    # Generate a random time window\n",
        "    start_time = RANGE_START + offset * 86400 * TIME_WINDOW_DAYS\n",
        "    end_time = start_time + 86400 * TIME_WINDOW_DAYS\n",
        "    \n",
        "    if end_time > RANGE_END:\n",
        "        break\n",
        "    \n",
        "    query_time1 = time.strftime(FORMAT, time.gmtime(start_time))\n",
        "    query_time2 = time.strftime(FORMAT, time.gmtime(end_time))\n",
        "    # print('[%s TO\\n%s]' % (query_time1, query_time2))\n",
        "    \n",
        "    query_results = cmr.searchCollection(created_at=query_time1 + ',' + query_time2)\n",
        "    \n",
        "    print(len(query_results))\n",
        "    if len(query_results) > 100:\n",
        "        print('WARNING: Pagination may have caused missed results.')\n",
        "    \n",
        "    # Add if they have a unique short name\n",
        "    for collection in query_results:\n",
        "        ln = collection['Collection']['ShortName'] + ' ' + collection['Collection']['LongName']\n",
        "        ln_fname = util.make_fname_safe(ln)\n",
        "        if ln not in long_names:\n",
        "            \n",
        "            # Write collection to file\n",
        "            fname = join(DATA_DIR, ln_fname + '.json')\n",
        "            f = Path(fname)\n",
        "            if f.is_file():\n",
        "                print('WARNING: Mining log (%s) does not reflect actual files downloaded in data directory' % MINING_LOG)\n",
        "            json.dump(collection, open(fname, 'w'))\n",
        "            \n",
        "            # Record name in 'log'\n",
        "            long_names.add(ln)\n",
        "            new_found += 1\n",
        "    \n",
        "    # Don't overload the API\n",
        "    time.sleep(random.random() * 0.25)\n",
        "    \n",
        "    offset += 1\n",
        "    \n",
        "print('Found %d new results' % new_found)"
      ],
      "outputs": [],
      "execution_count": null,
      "metadata": {
        "collapsed": false,
        "outputHidden": false,
        "inputHidden": false
      }
    },
    {
      "cell_type": "code",
      "source": [
        "# Save our progress\n",
        "pickle.dump(long_names, open(MINING_LOG, 'wb'))"
      ],
      "outputs": [],
      "execution_count": null,
      "metadata": {
        "collapsed": false,
        "outputHidden": false,
        "inputHidden": false
      }
    },
    {
      "cell_type": "code",
      "source": [
        "# Inspect number of downloaded files\n",
        "len(long_names)"
      ],
      "outputs": [
        {
          "output_type": "execute_result",
          "execution_count": 15,
          "data": {
            "text/plain": [
              "503"
            ]
          },
          "metadata": {}
        }
      ],
      "execution_count": 15,
      "metadata": {
        "collapsed": false,
        "outputHidden": false,
        "inputHidden": false
      }
    },
    {
      "cell_type": "code",
      "source": [],
      "outputs": [],
      "execution_count": null,
      "metadata": {
        "collapsed": false,
        "outputHidden": false,
        "inputHidden": false
      }
    }
  ],
  "metadata": {
    "kernelspec": {
      "name": "python3",
      "language": "python",
      "display_name": "Python 3"
    },
    "kernel_info": {
      "name": "python3"
    },
    "language_info": {
      "name": "python",
      "version": "3.6.5",
      "mimetype": "text/x-python",
      "codemirror_mode": {
        "name": "ipython",
        "version": 3
      },
      "pygments_lexer": "ipython3",
      "nbconvert_exporter": "python",
      "file_extension": ".py"
    },
    "nteract": {
      "version": "0.8.4"
    }
  },
  "nbformat": 4,
  "nbformat_minor": 4
}