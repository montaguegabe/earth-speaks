{
  "cells": [
    {
      "cell_type": "markdown",
      "source": [
        "This notebook needs updating"
      ],
      "metadata": {}
    },
    {
      "cell_type": "markdown",
      "source": [
        "CMR (Common metadata repository) is the API that is behind NASA earthdata searches. More details can be found at [here](https://earthdata.nasa.gov/about/science-system-description/eosdis-components/common-metadata-repository). It looks like it aims to be the go-to API for all earth data queries, and provides [Unified Metadata Model](https://earthdata.nasa.gov/about/science-system-description/eosdis-components/common-metadata-repository/unified-metadata-model-umm) tools for interchanging between different metadata formats."
      ],
      "metadata": {}
    },
    {
      "cell_type": "code",
      "source": [
        "# We use the default config file, which may have limitations\n",
        "from pyCMR.pyCMR import CMR\n",
        "cmr = CMR(\"cmr.cfg\")"
      ],
      "outputs": [],
      "execution_count": 2,
      "metadata": {
        "collapsed": false,
        "outputHidden": false,
        "inputHidden": false
      }
    },
    {
      "cell_type": "code",
      "source": [
        "# Search for something generic to get an idea of a sample response\n",
        "results = cmr.searchCollection(keyword='land')"
      ],
      "outputs": [],
      "execution_count": 3,
      "metadata": {
        "collapsed": false,
        "outputHidden": false,
        "inputHidden": false
      }
    },
    {
      "cell_type": "code",
      "source": [
        "# Let's examine this thing\n",
        "import json\n",
        "import re\n",
        "cln = results[0] # A python API-specific object with methods\n",
        "cln_json = json.dumps(cln) # A string\n",
        "cln_dict = json.loads(cln_json) # A dictionary of arrays and dictionaries\n"
      ],
      "outputs": [],
      "execution_count": 4,
      "metadata": {
        "collapsed": false,
        "outputHidden": false,
        "inputHidden": false,
        "outputExpanded": true
      }
    },
    {
      "cell_type": "code",
      "source": [
        "# Plug the result of this into jsonformatter.curiousconcept.com\n",
        "print cln_json"
      ],
      "outputs": [
        {
          "output_type": "stream",
          "name": "stdout",
          "text": [
            "{\"concept-id\": \"C1234511042-GES_DISC\", \"revision-id\": \"14\", \"Collection\": {\"AdditionalAttributes\": {\"AdditionalAttribute\": [{\"DataType\": \"STRING\", \"Name\": \"Data Granularity\", \"Value\": \"1 month\", \"Description\": \"The time coverage of individual data granules.\"}, {\"DataType\": \"STRING\", \"Name\": \"metadata.uuid\", \"Value\": \"edee15d2-e961-4e68-98de-e260bf66bc3c\", \"Description\": \"Not provided\"}, {\"DataType\": \"STRING\", \"Name\": \"metadata.extraction_date\", \"Value\": \"2016-01-19 09:31:33\", \"Description\": \"Not provided\"}, {\"DataType\": \"FLOAT\", \"Name\": \"metadata.keyword_version\", \"Value\": \"8.5\", \"Description\": \"Not provided\"}, {\"DataType\": \"STRING\", \"Name\": \"DIF9.0-to-DIF10-Converter\", \"Value\": \"2016-01-20T13:00:02ZVersion:-3.0Target:10.2\", \"Description\": \"Not provided\"}, {\"DataType\": \"STRING\", \"Name\": \"IDN_Node.Short_Name\", \"Value\": \"ECHOARCTICSOOS\", \"Description\": \"Not provided\"}, {\"DataType\": \"STRING\", \"Name\": \"IDN_Node.UUID\", \"Value\": \"2efb470f-61f8-4046-b2ee-ebed27e2f310d711d9ad-686b-4665-9213-322bf9956caa51f5487c-098e-4387-b0f0-09eb9d55b0d5\", \"Description\": \"Not provided\"}, {\"DataType\": \"STRING\", \"Name\": \"Original.Metadata_Version\", \"Value\": \"VERSION 9.8.4\", \"Description\": \"Not provided\"}, {\"DataType\": \"STRING\", \"Name\": \"Original.Dataset_Language\", \"Value\": \"ENGLISH\", \"Description\": \"Not provided\"}, {\"DataType\": \"STRING\", \"Name\": \"Original.xsi:schemaLocation\", \"Value\": \"https://gcmd.gsfc.nasa.gov/index.html\", \"Description\": \"Not provided\"}, {\"DataType\": \"STRING\", \"Name\": \"metadata.tool\", \"Value\": \"2017-10-19:docbuilder\", \"Description\": \"Not provided\"}]}, \"DOI\": {\"DOI\": \"10.5067/XLNQ30KMZVHX\"}, \"OnlineResources\": {\"OnlineResource\": [{\"URL\": \"https://hydro1.gesdisc.eosdis.nasa.gov/opendap/FLDAS/FLDAS_NOAH01_C_EA_M.001/\", \"Type\": \"GET SERVICE : OPENDAP DATA\", \"Description\": \"Access the data via the OPeNDAP protocol.\"}, {\"URL\": \"https://hydro1.gesdisc.eosdis.nasa.gov/data/FLDAS/FLDAS_NOAH01_C_EA_M.001/doc/README_FLDAS.pdf\", \"Type\": \"VIEW RELATED INFORMATION : USER'S GUIDE\", \"Description\": \"README Document\"}, {\"URL\": \"https://ldas.gsfc.nasa.gov/FLDAS/\", \"Type\": \"PublicationURL : VIEW RELATED INFORMATION\", \"Description\": \"FLDAS Project Web Site\"}, {\"URL\": \"https://disc.gsfc.nasa.gov/information/howto\", \"Type\": \"VIEW RELATED INFORMATION : HOW-TO\", \"Description\": \"GES DISC Services Cookbook main page\"}]}, \"Contacts\": {\"Contact\": [{\"OrganizationName\": \"NASA/GSFC/SED/ESD/GCDC/GESDISC\", \"Role\": \"ARCHIVER\"}, {\"ContactPersons\": {\"ContactPerson\": {\"LastName\": \"RUI\", \"JobPosition\": \"METADATA AUTHOR\", \"FirstName\": \"HUALAN\"}}, \"Role\": \"TECHNICAL CONTACT\"}]}, \"Temporal\": {\"EndsAtPresentFlag\": \"true\", \"RangeDateTime\": {\"BeginningDateTime\": \"1982-01-01T00:00:00.000Z\"}}, \"SpatialKeywords\": {\"Keyword\": \"EASTERN AFRICA\"}, \"DataFormat\": \"netCDF-4\", \"AssociatedBrowseImageUrls\": {\"ProviderBrowseUrl\": [{\"URL\": \"https://docserver.gesdisc.eosdis.nasa.gov/public/project/Images/FLDAS_NOAH01_C_EA_M_001.png\", \"Description\": \"FLDAS Noah (MERRA-2 and CHIRPS) Eastern Africa Monthly 0.25 degree (0-10 cm) Soil Moisture [m^3 m-3] January 1982\"}, {\"URL\": \"https://giovanni.gsfc.nasa.gov/giovanni/#dataKeyword=FLDAS_NOAH01_C_EA_M\", \"Description\": \"The GES-DISC Interactive Online Visualization ANd aNalysis Interface (Giovanni) is a web-based tool that allows users to interactively visualize and analyze data.\"}]}, \"InsertTime\": \"2016-03-28T00:00:00.000Z\", \"Spatial\": {\"HorizontalSpatialDomain\": {\"Geometry\": {\"CoordinateSystem\": \"CARTESIAN\", \"BoundingRectangle\": {\"WestBoundingCoordinate\": \"22.0\", \"SouthBoundingCoordinate\": \"-11.8\", \"NorthBoundingCoordinate\": \"23.0\", \"EastBoundingCoordinate\": \"51.4\"}}}, \"GranuleSpatialRepresentation\": \"CARTESIAN\"}, \"Orderable\": \"false\", \"ArchiveCenter\": \"NASA/GSFC/SED/ESD/GCDC/GESDISC\", \"DataSetId\": \"FLDAS Noah Land Surface Model L4 monthly 0.1 x 0.1 degree for Eastern Africa (MERRA-2 and CHIRPS) V001 (FLDAS_NOAH01_C_EA_M) at GES DISC\", \"RevisionDate\": \"2017-10-19T00:00:00.000Z\", \"LastUpdate\": \"2016-03-29T00:00:00.000Z\", \"CollectionState\": \"ACTIVE\", \"Description\": \"This data set contains a series of land surface parameters simulated from the Noah 3.3 model in the Famine Early Warning Systems Network (FEWS NET) Land Data Assimilation System (FLDAS). The data are in 0.10 degree resolution and range from January 1982 to the present. The temporal resolution is monthly and spatial coverage is Eastern Africa (11.8S, 22.0E, 23.0N, 51.4E). The files are in NetCDF format. \\n\\nThis simulation was forced by combination of New version of the Modern Era Retrospective-analysis for Research and Applications (MERRA-2) and Climate Hazards Group InfraRed Precipitation with Station data (CHIRPS).\\n\\nThe simulation was initialized on 1 January 1982 using soil moisture and other state fields from a FLDAS/Noah model climatology for that day of the year.\", \"Visible\": \"true\", \"OnlineAccessURLs\": {\"OnlineAccessURL\": [{\"URL\": \"https://hydro1.gesdisc.eosdis.nasa.gov/data/FLDAS/FLDAS_NOAH01_C_EA_M.001/\", \"URLDescription\": \"Access the data via HTTPS.\"}, {\"URL\": \"https://search.earthdata.nasa.gov/search?q=FLDAS_NOAH01_C_EA\", \"URLDescription\": \"Use the Earthdata Search to find and retrieve data sets across multiple data centers.\"}]}, \"ProcessingLevelId\": \"4\", \"ScienceKeywords\": {\"ScienceKeyword\": [{\"TermKeyword\": \"ATMOSPHERIC PRESSURE\", \"VariableLevel1Keyword\": {\"Value\": \"SURFACE PRESSURE\"}, \"TopicKeyword\": \"ATMOSPHERE\", \"CategoryKeyword\": \"EARTH SCIENCE\"}, {\"TermKeyword\": \"ATMOSPHERIC RADIATION\", \"VariableLevel1Keyword\": {\"Value\": \"HEAT FLUX\"}, \"TopicKeyword\": \"ATMOSPHERE\", \"CategoryKeyword\": \"EARTH SCIENCE\"}, {\"TermKeyword\": \"ATMOSPHERIC RADIATION\", \"VariableLevel1Keyword\": {\"Value\": \"LONGWAVE RADIATION\"}, \"TopicKeyword\": \"ATMOSPHERE\", \"CategoryKeyword\": \"EARTH SCIENCE\"}, {\"TermKeyword\": \"ATMOSPHERIC RADIATION\", \"VariableLevel1Keyword\": {\"Value\": \"SHORTWAVE RADIATION\"}, \"TopicKeyword\": \"ATMOSPHERE\", \"CategoryKeyword\": \"EARTH SCIENCE\"}, {\"TermKeyword\": \"ATMOSPHERIC TEMPERATURE\", \"VariableLevel1Keyword\": {\"Value\": \"SURFACE TEMPERATURE\"}, \"TopicKeyword\": \"ATMOSPHERE\", \"CategoryKeyword\": \"EARTH SCIENCE\"}, {\"TermKeyword\": \"ATMOSPHERIC WATER VAPOR\", \"VariableLevel1Keyword\": {\"VariableLevel2Keyword\": {\"Value\": \"HUMIDITY\"}, \"Value\": \"WATER VAPOR INDICATORS\"}, \"TopicKeyword\": \"ATMOSPHERE\", \"CategoryKeyword\": \"EARTH SCIENCE\"}, {\"TermKeyword\": \"ATMOSPHERIC WATER VAPOR\", \"VariableLevel1Keyword\": {\"VariableLevel2Keyword\": {\"Value\": \"EVAPOTRANSPIRATION\"}, \"Value\": \"WATER VAPOR PROCESSES\"}, \"TopicKeyword\": \"ATMOSPHERE\", \"CategoryKeyword\": \"EARTH SCIENCE\"}, {\"TermKeyword\": \"ATMOSPHERIC WINDS\", \"VariableLevel1Keyword\": {\"Value\": \"SURFACE WINDS\"}, \"TopicKeyword\": \"ATMOSPHERE\", \"CategoryKeyword\": \"EARTH SCIENCE\"}, {\"TermKeyword\": \"PRECIPITATION\", \"VariableLevel1Keyword\": {\"VariableLevel2Keyword\": {\"Value\": \"RAIN\"}, \"Value\": \"LIQUID PRECIPITATION\"}, \"TopicKeyword\": \"ATMOSPHERE\", \"CategoryKeyword\": \"EARTH SCIENCE\"}, {\"TermKeyword\": \"SOILS\", \"VariableLevel1Keyword\": {\"Value\": \"SOIL MOISTURE/WATER CONTENT\"}, \"TopicKeyword\": \"LAND SURFACE\", \"CategoryKeyword\": \"EARTH SCIENCE\"}, {\"TermKeyword\": \"SOILS\", \"VariableLevel1Keyword\": {\"Value\": \"SOIL TEMPERATURE\"}, \"TopicKeyword\": \"LAND SURFACE\", \"CategoryKeyword\": \"EARTH SCIENCE\"}, {\"TermKeyword\": \"SURFACE THERMAL PROPERTIES\", \"VariableLevel1Keyword\": {\"Value\": \"LAND SURFACE TEMPERATURE\"}, \"TopicKeyword\": \"LAND SURFACE\", \"CategoryKeyword\": \"EARTH SCIENCE\"}, {\"TermKeyword\": \"SURFACE WATER\", \"VariableLevel1Keyword\": {\"VariableLevel2Keyword\": {\"Value\": \"RUNOFF\"}, \"Value\": \"SURFACE WATER PROCESSES/MEASUREMENTS\"}, \"TopicKeyword\": \"TERRESTRIAL HYDROSPHERE\", \"CategoryKeyword\": \"EARTH SCIENCE\"}]}, \"Campaigns\": {\"Campaign\": {\"ShortName\": \"FLDAS\", \"LongName\": \"Famine Early Warning Systems Network (FEWS NET) Land Data Assimilation System\"}}, \"Platforms\": {\"Platform\": {\"Instruments\": {\"Instrument\": {\"ShortName\": \"NOT APPLICABLE\"}}, \"ShortName\": \"Noah-LSM\", \"Type\": \"Models/Analyses\", \"LongName\": \"Noah Land Surface Model\"}}, \"VersionId\": \"001\", \"RestrictionComment\": \"None\", \"LongName\": \"Not provided\", \"ShortName\": \"FLDAS_NOAH01_C_EA_M\"}, \"format\": \"application/echo10+xml\"}\n"
          ]
        }
      ],
      "execution_count": 5,
      "metadata": {
        "collapsed": false,
        "outputHidden": false,
        "inputHidden": false,
        "outputExpanded": true
      }
    },
    {
      "cell_type": "markdown",
      "source": [
        "That is a lot... and the format may vary across different collections. This happens to be in the echo10 format.\n",
        "\n",
        "Questions:\n",
        "- How do we obtain the actual data granules associated (these have more metadata along with the actual data)?\n",
        "- Do we want to capture the various fieldnames or just the field entries?\n",
        "- What do we want to do with the URLs in here?\n",
        "- How do we extract keywords?"
      ],
      "metadata": {}
    },
    {
      "cell_type": "code",
      "source": [
        "# Some useful properties of a data collection:\n",
        "title = cln_dict['Collection']['DataSetId']\n",
        "fmt = cln_dict['format']\n",
        "desc = cln_dict['Collection']['Description']\n",
        "\n",
        "print 'TITLE: %s\\n\\nFORMAT: %s\\n\\nDESC: %s\\n' % (title, fmt, desc)\n",
        "\n",
        "print 'URLS:'\n",
        "online_ress = cln_dict['Collection']['OnlineResources']['OnlineResource']\n",
        "for online_res in online_ress:\n",
        "    print '*', online_res['Type']\n",
        "    print ' ', online_res['URL']\n",
        "    \n"
      ],
      "outputs": [
        {
          "output_type": "stream",
          "name": "stdout",
          "text": [
            "TITLE: FLDAS Noah Land Surface Model L4 monthly 0.1 x 0.1 degree for Eastern Africa (MERRA-2 and CHIRPS) V001 (FLDAS_NOAH01_C_EA_M) at GES DISC\n",
            "\n",
            "FORMAT: application/echo10+xml\n",
            "\n",
            "DESC: This data set contains a series of land surface parameters simulated from the Noah 3.3 model in the Famine Early Warning Systems Network (FEWS NET) Land Data Assimilation System (FLDAS). The data are in 0.10 degree resolution and range from January 1982 to the present. The temporal resolution is monthly and spatial coverage is Eastern Africa (11.8S, 22.0E, 23.0N, 51.4E). The files are in NetCDF format. \n",
            "\n",
            "This simulation was forced by combination of New version of the Modern Era Retrospective-analysis for Research and Applications (MERRA-2) and Climate Hazards Group InfraRed Precipitation with Station data (CHIRPS).\n",
            "\n",
            "The simulation was initialized on 1 January 1982 using soil moisture and other state fields from a FLDAS/Noah model climatology for that day of the year.\n",
            "\n",
            "URLS:\n",
            "* GET SERVICE : OPENDAP DATA\n",
            "  https://hydro1.gesdisc.eosdis.nasa.gov/opendap/FLDAS/FLDAS_NOAH01_C_EA_M.001/\n",
            "* VIEW RELATED INFORMATION : USER'S GUIDE\n",
            "  https://hydro1.gesdisc.eosdis.nasa.gov/data/FLDAS/FLDAS_NOAH01_C_EA_M.001/doc/README_FLDAS.pdf\n",
            "* PublicationURL : VIEW RELATED INFORMATION\n",
            "  https://ldas.gsfc.nasa.gov/FLDAS/\n",
            "* VIEW RELATED INFORMATION : HOW-TO\n",
            "  https://disc.gsfc.nasa.gov/information/howto\n"
          ]
        }
      ],
      "execution_count": 6,
      "metadata": {
        "collapsed": false,
        "outputHidden": false,
        "inputHidden": false
      }
    },
    {
      "cell_type": "markdown",
      "source": [
        "Spatial and temporal extents are available as well."
      ],
      "metadata": {}
    },
    {
      "cell_type": "code",
      "source": [
        "# NASA organizes science keywords into a hierarchy of levels.\n",
        "# We will ignore this structure for now.\n",
        "kw_str = json.dumps(cln_dict['Collection']['ScienceKeywords'])\n",
        "kws = re.split('[^a-zA-Z]', kw_str)\n",
        "kws = filter(None, kws)\n",
        "kws = map(lambda kw: kw.lower(), kws)\n",
        "kws = filter(lambda kw: 'keyword' not in kw, kws)\n",
        "not_kws = ['properties', 'variablelevel', 'value', 'content', 'measurements']\n",
        "kws = set(filter(lambda kw: kw not in not_kws, kws))\n",
        "\n",
        "# Each dataset has spatial keywords as well\n",
        "spatial_kws = cln_dict['Collection']['SpatialKeywords'].values()\n",
        "spatial_kws = map(lambda kw: str(kw.lower()), spatial_kws)"
      ],
      "outputs": [],
      "execution_count": 7,
      "metadata": {
        "collapsed": false,
        "outputHidden": false,
        "inputHidden": false
      }
    },
    {
      "cell_type": "code",
      "source": [
        "kws.union(spatial_kws)"
      ],
      "outputs": [
        {
          "output_type": "execute_result",
          "execution_count": 8,
          "data": {
            "text/plain": [
              "{'atmosphere',\n",
              " 'atmospheric',\n",
              " 'earth',\n",
              " 'eastern africa',\n",
              " 'evapotranspiration',\n",
              " 'flux',\n",
              " 'heat',\n",
              " 'humidity',\n",
              " 'hydrosphere',\n",
              " 'indicators',\n",
              " 'land',\n",
              " 'liquid',\n",
              " 'longwave',\n",
              " 'moisture',\n",
              " 'precipitation',\n",
              " 'pressure',\n",
              " 'processes',\n",
              " 'radiation',\n",
              " 'rain',\n",
              " 'runoff',\n",
              " 'science',\n",
              " 'shortwave',\n",
              " 'soil',\n",
              " 'soils',\n",
              " 'surface',\n",
              " 'temperature',\n",
              " 'terrestrial',\n",
              " 'thermal',\n",
              " 'vapor',\n",
              " 'water',\n",
              " 'winds'}"
            ]
          },
          "metadata": {}
        }
      ],
      "execution_count": 8,
      "metadata": {
        "collapsed": false,
        "outputHidden": false,
        "inputHidden": false
      }
    },
    {
      "cell_type": "markdown",
      "source": [
        "We will come back to explore keywords in more depth later. Now: How do we get the actual data/granules?"
      ],
      "metadata": {}
    },
    {
      "cell_type": "code",
      "source": [
        "# The title or \"DataSetId\" appears to link the metadata with granules\n",
        "print 'Searching for granules with title:', title\n",
        "results = cmr.searchGranule(entry_title=title)\n",
        "print 'Found %d results' % len(results)"
      ],
      "outputs": [
        {
          "output_type": "stream",
          "name": "stdout",
          "text": [
            "Searching for granules with title: FLDAS Noah Land Surface Model L4 monthly 0.1 x 0.1 degree for Eastern Africa (MERRA-2 and CHIRPS) V001 (FLDAS_NOAH01_C_EA_M) at GES DISC\n",
            "Found 100 results\n"
          ]
        }
      ],
      "execution_count": 9,
      "metadata": {
        "collapsed": false,
        "outputHidden": false,
        "inputHidden": false
      }
    },
    {
      "cell_type": "code",
      "source": [
        "# Plug the result of this into jsonformatter.curiousconcept.com\n",
        "\n",
        "# Let's see what a granule holds\n",
        "granule = results[0]\n",
        "granule_json = json.dumps(granule)\n",
        "\n",
        "# Again, plug the result of this into jsonformatter.curiousconcept.com\n",
        "print granule_json"
      ],
      "outputs": [
        {
          "output_type": "stream",
          "name": "stdout",
          "text": [
            "{\"concept-id\": \"G1235361682-GES_DISC\", \"collection-concept-id\": \"C1234511042-GES_DISC\", \"revision-id\": \"2\", \"Granule\": {\"LastUpdate\": \"2017-04-27T17:49:28Z\", \"OnlineAccessURLs\": {\"OnlineAccessURL\": {\"URL\": \"http://hydro1.gesdisc.eosdis.nasa.gov/data/FLDAS/FLDAS_NOAH01_C_EA_M.001/1982/FLDAS_NOAH01_C_EA_M.A198201.001.nc\"}}, \"Temporal\": {\"RangeDateTime\": {\"EndingDateTime\": \"1982-01-31T23:59:59Z\", \"BeginningDateTime\": \"1982-01-01T00:00:00Z\"}}, \"Collection\": {\"ShortName\": \"FLDAS_NOAH01_C_EA_M\", \"VersionId\": \"001\"}, \"MeasuredParameters\": {\"MeasuredParameter\": [{\"QAStats\": null, \"ParameterName\": \"Evap_tavg:total evapotranspiration [kg m-2 s-1]\", \"QAFlags\": null}, {\"QAStats\": null, \"ParameterName\": \"LWdown_f_tavg:surface downward longwave radiation [W m-2]\", \"QAFlags\": null}, {\"QAStats\": null, \"ParameterName\": \"Lwnet_tavg:net downward longwave radiation [W m-2]\", \"QAFlags\": null}, {\"QAStats\": null, \"ParameterName\": \"Psurf_f_tavg:surface pressure [Pa]\", \"QAFlags\": null}, {\"QAStats\": null, \"ParameterName\": \"Qair_f_tavg:specific humidity [kg kg-1]\", \"QAFlags\": null}, {\"QAStats\": null, \"ParameterName\": \"Qg_tavg:soil heat flux [W m-2]\", \"QAFlags\": null}, {\"QAStats\": null, \"ParameterName\": \"Qh_tavg:sensible heat flux [W m-2]\", \"QAFlags\": null}, {\"QAStats\": null, \"ParameterName\": \"Qle_tavg:latent heat flux [W m-2]\", \"QAFlags\": null}, {\"QAStats\": null, \"ParameterName\": \"Qs_tavg:surface runoff [kg m-2 s-1]\", \"QAFlags\": null}, {\"QAStats\": null, \"ParameterName\": \"Qsb_tavg:subsurface runoff amount [kg m-2 s-1]\", \"QAFlags\": null}, {\"QAStats\": null, \"ParameterName\": \"RadT_tavg:surface radiative temperature [K]\", \"QAFlags\": null}, {\"QAStats\": null, \"ParameterName\": \"Rainf_f_tavg:rainfall flux [kg m-2 s-1]\", \"QAFlags\": null}, {\"QAStats\": null, \"ParameterName\": \"SM01_Percentile:soil moisture percentiles [percentile]\", \"QAFlags\": null}, {\"QAStats\": null, \"ParameterName\": \"SMRZ_Percentile:root zone soil moisture percentiles [percentile]\", \"QAFlags\": null}, {\"QAStats\": null, \"ParameterName\": \"SoilMoi00_10cm_tavg:soil moisture content [m^3 m-3]\", \"QAFlags\": null}, {\"QAStats\": null, \"ParameterName\": \"SoilMoi10_40cm_tavg:soil moisture content [m^3 m-3]\", \"QAFlags\": null}, {\"QAStats\": null, \"ParameterName\": \"SoilMoi40_100cm_tavg:soil moisture content [m^3 m-3]\", \"QAFlags\": null}, {\"QAStats\": null, \"ParameterName\": \"SoilMoi100_200cm_tavg:soil moisture content [m^3 m-3]\", \"QAFlags\": null}, {\"QAStats\": null, \"ParameterName\": \"SoilTemp00_10cm_tavg:soil temperature [K]\", \"QAFlags\": null}, {\"QAStats\": null, \"ParameterName\": \"SoilTemp100_200cm_tavg:soil temperature [K]\", \"QAFlags\": null}, {\"QAStats\": null, \"ParameterName\": \"SoilTemp10_40cm_tavg:soil temperature [K]\", \"QAFlags\": null}, {\"QAStats\": null, \"ParameterName\": \"SoilTemp40_100cm_tavg:soil temperature [K]\", \"QAFlags\": null}, {\"QAStats\": null, \"ParameterName\": \"SWdown_f_tavg:surface downward shortwave radiation [W m-2]\", \"QAFlags\": null}, {\"QAStats\": null, \"ParameterName\": \"Swnet_tavg:net downward shortwave radiation [W m-2]\", \"QAFlags\": null}, {\"QAStats\": null, \"ParameterName\": \"Tair_f_tavg:air temperature [K]\", \"QAFlags\": null}, {\"QAStats\": null, \"ParameterName\": \"Wind_f_tavg:wind speed [m s-1]\", \"QAFlags\": null}, {\"QAStats\": null, \"ParameterName\": \"X:longitude [degrees_east]\", \"QAFlags\": null}, {\"QAStats\": null, \"ParameterName\": \"Y:latitude [degrees_north]\", \"QAFlags\": null}]}, \"DataFormat\": \"NETCDF\", \"InsertTime\": \"2017-04-27T17:49:28Z\", \"Spatial\": {\"HorizontalSpatialDomain\": {\"Geometry\": {\"BoundingRectangle\": {\"WestBoundingCoordinate\": \"22.0\", \"SouthBoundingCoordinate\": \"-11.8\", \"NorthBoundingCoordinate\": \"23.0\", \"EastBoundingCoordinate\": \"51.4\"}}}}, \"Orderable\": \"false\", \"DataGranule\": {\"ProductionDateTime\": \"2017-04-27T17:49:28Z\", \"SizeMBDataGranule\": \"10.1750907897949\", \"DayNightFlag\": \"UNSPECIFIED\", \"ProducerGranuleId\": \"FLDAS_NOAH01_C_EA_M.A198201.001.nc\"}, \"GranuleUR\": \"FLDAS_NOAH01_C_EA_M.001:FLDAS_NOAH01_C_EA_M.A198201.001.nc\"}, \"format\": \"application/echo10+xml\"}\n"
          ]
        }
      ],
      "execution_count": 10,
      "metadata": {
        "collapsed": false,
        "outputHidden": false,
        "inputHidden": false,
        "outputExpanded": true
      }
    },
    {
      "cell_type": "markdown",
      "source": [
        "Again, we can get the spatial and temporal constraints of the granule. But let's see if we can actually get the data."
      ],
      "metadata": {}
    },
    {
      "cell_type": "code",
      "source": [
        "import os\n",
        "\n",
        "# First of all get the data's format\n",
        "data_fmt = granule['Granule']['DataFormat']\n",
        "data_url = granule['Granule']['OnlineAccessURLs']['OnlineAccessURL']['URL']\n",
        "\n",
        "print 'RESPONSE FORMAT:', granule['format']\n",
        "print 'DATA FORMAT:', data_fmt\n",
        "print 'DATA URL:', data_url\n",
        "\n",
        "# To actually retrieve the data we must be authenticated\n",
        "username = os.environ.get('ED_USERNAME')\n",
        "password = os.environ.get('ED_PASSWORD')\n",
        "url = data_url"
      ],
      "outputs": [
        {
          "output_type": "stream",
          "name": "stdout",
          "text": [
            "RESPONSE FORMAT: application/echo10+xml\n",
            "DATA FORMAT: NETCDF\n",
            "DATA URL: http://hydro1.gesdisc.eosdis.nasa.gov/data/FLDAS/FLDAS_NOAH01_C_EA_M.001/1982/FLDAS_NOAH01_C_EA_M.A198201.001.nc\n"
          ]
        },
        {
          "output_type": "error",
          "ename": "NameError",
          "evalue": "name 'FILLMEIN' is not defined",
          "traceback": [
            "\u001b[0;31m\u001b[0m",
            "\u001b[0;31mNameError\u001b[0mTraceback (most recent call last)",
            "\u001b[0;32m<ipython-input-11-5a62baf3c3bd>\u001b[0m in \u001b[0;36m<module>\u001b[0;34m()\u001b[0m\n\u001b[1;32m      8\u001b[0m \u001b[0;34m\u001b[0m\u001b[0m\n\u001b[1;32m      9\u001b[0m \u001b[0;31m# To actually retrieve the data we must be authenticated\u001b[0m\u001b[0;34m\u001b[0m\u001b[0;34m\u001b[0m\u001b[0m\n\u001b[0;32m---> 10\u001b[0;31m \u001b[0musername\u001b[0m \u001b[0;34m=\u001b[0m \u001b[0mFILLMEIN\u001b[0m\u001b[0;34m\u001b[0m\u001b[0m\n\u001b[0m\u001b[1;32m     11\u001b[0m \u001b[0mpassword\u001b[0m \u001b[0;34m=\u001b[0m \u001b[0mFILLMEIN\u001b[0m\u001b[0;34m\u001b[0m\u001b[0m\n\u001b[1;32m     12\u001b[0m \u001b[0murl\u001b[0m \u001b[0;34m=\u001b[0m \u001b[0mdata_url\u001b[0m\u001b[0;34m\u001b[0m\u001b[0m\n",
            "\u001b[0;31mNameError\u001b[0m: name 'FILLMEIN' is not defined"
          ]
        }
      ],
      "execution_count": 11,
      "metadata": {
        "collapsed": false,
        "outputHidden": false,
        "inputHidden": false,
        "outputExpanded": true
      }
    },
    {
      "cell_type": "markdown",
      "source": [
        "If I plug the above URL into my browser, the data is retrieved. However, due to redirect complexities or authentication, provided sample scripts for downloading data in python do not do the trick."
      ],
      "metadata": {}
    },
    {
      "cell_type": "code",
      "source": [
        "# TODO: Copy HTTP headers exactly with request in order to get the data"
      ],
      "outputs": [],
      "execution_count": 12,
      "metadata": {
        "collapsed": false,
        "outputHidden": false,
        "inputHidden": false
      }
    },
    {
      "cell_type": "code",
      "source": [
        "import os\n",
        "print os.environ.get('ED_PASSWORD')\n"
      ],
      "outputs": [
        {
          "output_type": "stream",
          "name": "stdout",
          "text": [
            "None\n"
          ]
        }
      ],
      "execution_count": 15,
      "metadata": {
        "collapsed": false,
        "outputHidden": false,
        "inputHidden": false
      }
    },
    {
      "cell_type": "code",
      "source": [],
      "outputs": [],
      "execution_count": null,
      "metadata": {
        "collapsed": false,
        "outputHidden": false,
        "inputHidden": false
      }
    }
  ],
  "metadata": {
    "kernelspec": {
      "name": "python2",
      "language": "python",
      "display_name": "Python 2"
    },
    "kernel_info": {
      "name": "python2"
    },
    "language_info": {
      "name": "python",
      "version": "3.6.5",
      "mimetype": "text/x-python",
      "codemirror_mode": {
        "name": "ipython",
        "version": 3
      },
      "pygments_lexer": "ipython3",
      "nbconvert_exporter": "python",
      "file_extension": ".py"
    },
    "nteract": {
      "version": "0.8.4"
    }
  },
  "nbformat": 4,
  "nbformat_minor": 4
}