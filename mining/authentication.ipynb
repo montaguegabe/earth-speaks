{
  "cells": [
    {
      "cell_type": "markdown",
      "source": [
        "This notebook deals with authenticating download requests, allowing for programmatic bulk-downloading without having to resort to Selenium.\n",
        "\nSee: https://github.com/n8henrie/pycookiecheat"
      ],
      "metadata": {}
    },
    {
      "cell_type": "code",
      "source": [
        "CREDENTIALS_DIR = '../credentials' # make sure this is not checked\n",
        "DATA_DIR        = '../data/example/'\n",
        "PROTECTED_URL   = 'http://www.nature.com.ezp-prod1.hul.harvard.edu/articles/srep44529.pdf'\n",
        "CRED_NAME       = 'nature'\n",
        "\n",
        "def extend_lifetime(cookies):\n",
        "    \n",
        "    # WARNING: This is specific to the NATURE source\n",
        "    cookies['PS_TOKENEXPIRE'] = '20_Feb_2019_01:38:49_GMT'\n",
        "    return cookies"
      ],
      "outputs": [],
      "execution_count": null,
      "metadata": {
        "collapsed": false,
        "outputHidden": false,
        "inputHidden": false
      }
    },
    {
      "cell_type": "code",
      "source": [
        "import webbrowser\n",
        "from pycookiecheat import chrome_cookies\n",
        "import requests\n",
        "import json\n",
        "from os.path import join\n",
        "from importlib import reload\n",
        "import util\n",
        "import pathlib"
      ],
      "outputs": [],
      "execution_count": null,
      "metadata": {
        "collapsed": false,
        "outputHidden": false,
        "inputHidden": false
      }
    },
    {
      "cell_type": "code",
      "source": [
        "# Open the URL in the browser\n",
        "webbrowser.open_new_tab(PROTECTED_URL)"
      ],
      "outputs": [],
      "execution_count": null,
      "metadata": {
        "collapsed": false,
        "outputHidden": false,
        "inputHidden": false
      }
    },
    {
      "cell_type": "code",
      "source": [
        "# Uses Chrome's default cookies filepath by default\n",
        "cookies = chrome_cookies(PROTECTED_URL)"
      ],
      "outputs": [],
      "execution_count": null,
      "metadata": {
        "collapsed": false,
        "outputHidden": false,
        "inputHidden": false
      }
    },
    {
      "cell_type": "code",
      "source": [
        "# Attempt to extend the life of the cookies\n",
        "cookies = extend_lifetime(cookies)"
      ],
      "outputs": [],
      "execution_count": null,
      "metadata": {
        "collapsed": false,
        "outputHidden": false,
        "inputHidden": false
      }
    },
    {
      "cell_type": "code",
      "source": [
        "# Save the credentials as JSON to be used later\n",
        "cred_str = json.dumps(cookies)\n",
        "out_name = 'nature'\n",
        "credentials_file = join(CREDENTIALS_DIR, CRED_NAME + '.json')\n",
        "with open(credentials_file, 'w') as f:\n",
        "    f.write(cred_str)"
      ],
      "outputs": [],
      "execution_count": null,
      "metadata": {
        "collapsed": false,
        "outputHidden": false,
        "inputHidden": false
      }
    },
    {
      "cell_type": "markdown",
      "source": [
        "An example of using the cookies:"
      ],
      "metadata": {}
    },
    {
      "cell_type": "code",
      "source": [
        "# Make the data directory if it does not already exist\n",
        "pathlib.Path(DATA_DIR).mkdir(parents=True, exist_ok=True) \n",
        "\n",
        "# Read credentials\n",
        "credentials_file = join(CREDENTIALS_DIR, CRED_NAME + '.json')\n",
        "cookies = util.get_cookies(credentials_file)\n",
        "util.download_file(PROTECTED_URL, cookies, DATA_DIR)"
      ],
      "outputs": [],
      "execution_count": null,
      "metadata": {
        "collapsed": false,
        "outputHidden": false,
        "inputHidden": false
      }
    },
    {
      "cell_type": "markdown",
      "source": [
        "The file should now be in the data directory. Note that if the above function has failed then we need to renew the credentials via some more complicated process."
      ],
      "metadata": {}
    }
  ],
  "metadata": {
    "kernelspec": {
      "name": "python3",
      "language": "python",
      "display_name": "Python 3"
    },
    "kernel_info": {
      "name": "python3"
    },
    "language_info": {
      "name": "python",
      "version": "3.6.5",
      "mimetype": "text/x-python",
      "codemirror_mode": {
        "name": "ipython",
        "version": 3
      },
      "pygments_lexer": "ipython3",
      "nbconvert_exporter": "python",
      "file_extension": ".py"
    },
    "nteract": {
      "version": "0.8.4"
    }
  },
  "nbformat": 4,
  "nbformat_minor": 4
}